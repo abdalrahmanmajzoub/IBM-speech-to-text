{
  "nbformat": 4,
  "nbformat_minor": 0,
  "metadata": {
    "colab": {
      "name": "IBM Speech to Text.ipynb",
      "provenance": [],
      "collapsed_sections": [],
      "authorship_tag": "ABX9TyMYg2PVXnTohWpRKHzgdP6M",
      "include_colab_link": true
    },
    "kernelspec": {
      "name": "python3",
      "display_name": "Python 3"
    },
    "language_info": {
      "name": "python"
    }
  },
  "cells": [
    {
      "cell_type": "markdown",
      "metadata": {
        "id": "view-in-github",
        "colab_type": "text"
      },
      "source": [
        "<a href=\"https://colab.research.google.com/github/abdalrahmanmajzoub/IBM-speech-to-text/blob/main/IBM_Speech_to_Text.ipynb\" target=\"_parent\"><img src=\"https://colab.research.google.com/assets/colab-badge.svg\" alt=\"Open In Colab\"/></a>"
      ]
    },
    {
      "cell_type": "code",
      "metadata": {
        "colab": {
          "base_uri": "https://localhost:8080/"
        },
        "id": "4dTANXbu7vBw",
        "outputId": "f19741a1-ad72-4969-dd06-d71b9970d0e6"
      },
      "source": [
        "#you will need the following library \n",
        "!pip install ibm_watson wget"
      ],
      "execution_count": 1,
      "outputs": [
        {
          "output_type": "stream",
          "name": "stdout",
          "text": [
            "Collecting ibm_watson\n",
            "  Downloading ibm-watson-5.3.0.tar.gz (412 kB)\n",
            "\u001b[?25l\r\u001b[K     |▉                               | 10 kB 21.9 MB/s eta 0:00:01\r\u001b[K     |█▋                              | 20 kB 28.8 MB/s eta 0:00:01\r\u001b[K     |██▍                             | 30 kB 23.2 MB/s eta 0:00:01\r\u001b[K     |███▏                            | 40 kB 18.6 MB/s eta 0:00:01\r\u001b[K     |████                            | 51 kB 9.5 MB/s eta 0:00:01\r\u001b[K     |████▊                           | 61 kB 8.8 MB/s eta 0:00:01\r\u001b[K     |█████▋                          | 71 kB 9.2 MB/s eta 0:00:01\r\u001b[K     |██████▍                         | 81 kB 10.3 MB/s eta 0:00:01\r\u001b[K     |███████▏                        | 92 kB 7.7 MB/s eta 0:00:01\r\u001b[K     |████████                        | 102 kB 8.4 MB/s eta 0:00:01\r\u001b[K     |████████▊                       | 112 kB 8.4 MB/s eta 0:00:01\r\u001b[K     |█████████▌                      | 122 kB 8.4 MB/s eta 0:00:01\r\u001b[K     |██████████▎                     | 133 kB 8.4 MB/s eta 0:00:01\r\u001b[K     |███████████▏                    | 143 kB 8.4 MB/s eta 0:00:01\r\u001b[K     |████████████                    | 153 kB 8.4 MB/s eta 0:00:01\r\u001b[K     |████████████▊                   | 163 kB 8.4 MB/s eta 0:00:01\r\u001b[K     |█████████████▌                  | 174 kB 8.4 MB/s eta 0:00:01\r\u001b[K     |██████████████▎                 | 184 kB 8.4 MB/s eta 0:00:01\r\u001b[K     |███████████████                 | 194 kB 8.4 MB/s eta 0:00:01\r\u001b[K     |████████████████                | 204 kB 8.4 MB/s eta 0:00:01\r\u001b[K     |████████████████▊               | 215 kB 8.4 MB/s eta 0:00:01\r\u001b[K     |█████████████████▌              | 225 kB 8.4 MB/s eta 0:00:01\r\u001b[K     |██████████████████▎             | 235 kB 8.4 MB/s eta 0:00:01\r\u001b[K     |███████████████████             | 245 kB 8.4 MB/s eta 0:00:01\r\u001b[K     |███████████████████▉            | 256 kB 8.4 MB/s eta 0:00:01\r\u001b[K     |████████████████████▋           | 266 kB 8.4 MB/s eta 0:00:01\r\u001b[K     |█████████████████████▌          | 276 kB 8.4 MB/s eta 0:00:01\r\u001b[K     |██████████████████████▎         | 286 kB 8.4 MB/s eta 0:00:01\r\u001b[K     |███████████████████████         | 296 kB 8.4 MB/s eta 0:00:01\r\u001b[K     |███████████████████████▉        | 307 kB 8.4 MB/s eta 0:00:01\r\u001b[K     |████████████████████████▋       | 317 kB 8.4 MB/s eta 0:00:01\r\u001b[K     |█████████████████████████▍      | 327 kB 8.4 MB/s eta 0:00:01\r\u001b[K     |██████████████████████████▏     | 337 kB 8.4 MB/s eta 0:00:01\r\u001b[K     |███████████████████████████     | 348 kB 8.4 MB/s eta 0:00:01\r\u001b[K     |███████████████████████████▉    | 358 kB 8.4 MB/s eta 0:00:01\r\u001b[K     |████████████████████████████▋   | 368 kB 8.4 MB/s eta 0:00:01\r\u001b[K     |█████████████████████████████▍  | 378 kB 8.4 MB/s eta 0:00:01\r\u001b[K     |██████████████████████████████▏ | 389 kB 8.4 MB/s eta 0:00:01\r\u001b[K     |███████████████████████████████ | 399 kB 8.4 MB/s eta 0:00:01\r\u001b[K     |███████████████████████████████▉| 409 kB 8.4 MB/s eta 0:00:01\r\u001b[K     |████████████████████████████████| 412 kB 8.4 MB/s \n",
            "\u001b[?25h  Installing build dependencies ... \u001b[?25l\u001b[?25hdone\n",
            "  Getting requirements to build wheel ... \u001b[?25l\u001b[?25hdone\n",
            "    Preparing wheel metadata ... \u001b[?25l\u001b[?25hdone\n",
            "Collecting wget\n",
            "  Downloading wget-3.2.zip (10 kB)\n",
            "Collecting ibm-cloud-sdk-core==3.*,>=3.3.6\n",
            "  Downloading ibm-cloud-sdk-core-3.11.3.tar.gz (45 kB)\n",
            "\u001b[K     |████████████████████████████████| 45 kB 3.2 MB/s \n",
            "\u001b[?25hRequirement already satisfied: requests<3.0,>=2.0 in /usr/local/lib/python3.7/dist-packages (from ibm_watson) (2.23.0)\n",
            "Collecting websocket-client==1.1.0\n",
            "  Downloading websocket_client-1.1.0-py2.py3-none-any.whl (68 kB)\n",
            "\u001b[K     |████████████████████████████████| 68 kB 6.9 MB/s \n",
            "\u001b[?25hRequirement already satisfied: python-dateutil>=2.5.3 in /usr/local/lib/python3.7/dist-packages (from ibm_watson) (2.8.2)\n",
            "Collecting PyJWT<3.0.0,>=2.0.1\n",
            "  Downloading PyJWT-2.1.0-py3-none-any.whl (16 kB)\n",
            "Requirement already satisfied: six>=1.5 in /usr/local/lib/python3.7/dist-packages (from python-dateutil>=2.5.3->ibm_watson) (1.15.0)\n",
            "Requirement already satisfied: idna<3,>=2.5 in /usr/local/lib/python3.7/dist-packages (from requests<3.0,>=2.0->ibm_watson) (2.10)\n",
            "Requirement already satisfied: chardet<4,>=3.0.2 in /usr/local/lib/python3.7/dist-packages (from requests<3.0,>=2.0->ibm_watson) (3.0.4)\n",
            "Requirement already satisfied: urllib3!=1.25.0,!=1.25.1,<1.26,>=1.21.1 in /usr/local/lib/python3.7/dist-packages (from requests<3.0,>=2.0->ibm_watson) (1.24.3)\n",
            "Requirement already satisfied: certifi>=2017.4.17 in /usr/local/lib/python3.7/dist-packages (from requests<3.0,>=2.0->ibm_watson) (2021.5.30)\n",
            "Building wheels for collected packages: ibm-watson, ibm-cloud-sdk-core, wget\n",
            "  Building wheel for ibm-watson (PEP 517) ... \u001b[?25l\u001b[?25hdone\n",
            "  Created wheel for ibm-watson: filename=ibm_watson-5.3.0-py3-none-any.whl size=408872 sha256=7d80ffe4f2eb6f7bb62e340e561008763e4edd84e7317e2e832881b5257a42f7\n",
            "  Stored in directory: /root/.cache/pip/wheels/21/d9/82/4ce5b94730bc4f1f7b4c6384f72964b9b8f79fcc125bb8085c\n",
            "  Building wheel for ibm-cloud-sdk-core (setup.py) ... \u001b[?25l\u001b[?25hdone\n",
            "  Created wheel for ibm-cloud-sdk-core: filename=ibm_cloud_sdk_core-3.11.3-py3-none-any.whl size=74751 sha256=c7139f2db84dab74fcbf5aea334abf25605f772e9daed92e170b5a502201b84d\n",
            "  Stored in directory: /root/.cache/pip/wheels/93/85/b2/7c2428617824a175293f7957d4a20b4975eb0ddbef52800006\n",
            "  Building wheel for wget (setup.py) ... \u001b[?25l\u001b[?25hdone\n",
            "  Created wheel for wget: filename=wget-3.2-py3-none-any.whl size=9672 sha256=675a247bde58355fa5fc273b08ab818701156884d00eee3f6d6139be62a58a78\n",
            "  Stored in directory: /root/.cache/pip/wheels/a1/b6/7c/0e63e34eb06634181c63adacca38b79ff8f35c37e3c13e3c02\n",
            "Successfully built ibm-watson ibm-cloud-sdk-core wget\n",
            "Installing collected packages: PyJWT, websocket-client, ibm-cloud-sdk-core, wget, ibm-watson\n",
            "Successfully installed PyJWT-2.1.0 ibm-cloud-sdk-core-3.11.3 ibm-watson-5.3.0 websocket-client-1.1.0 wget-3.2\n"
          ]
        }
      ]
    },
    {
      "cell_type": "markdown",
      "metadata": {
        "id": "-XxvqZdL8fGK"
      },
      "source": [
        "Import IBM Watson library"
      ]
    },
    {
      "cell_type": "code",
      "metadata": {
        "id": "0SQTn03n8Oce"
      },
      "source": [
        "from ibm_watson import SpeechToTextV1 \n",
        "import json\n",
        "from ibm_cloud_sdk_core.authenticators import IAMAuthenticator"
      ],
      "execution_count": 2,
      "outputs": []
    },
    {
      "cell_type": "markdown",
      "metadata": {
        "id": "N_-WPePZ8y_A"
      },
      "source": [
        "Belos is The service endpoint "
      ]
    },
    {
      "cell_type": "code",
      "metadata": {
        "id": "Db7BXlwl8j5X"
      },
      "source": [
        "#you should use your own credentials from IBM Cloud Pack Services for spech to text service\n",
        "url_s2t = \"**********************\""
      ],
      "execution_count": 3,
      "outputs": []
    },
    {
      "cell_type": "code",
      "metadata": {
        "id": "xjZpVI4O8xxM"
      },
      "source": [
        "iam_apikey_s2t = \"***********************\""
      ],
      "execution_count": 4,
      "outputs": []
    },
    {
      "cell_type": "markdown",
      "metadata": {
        "id": "pt4ApK8a9HvC"
      },
      "source": [
        "You create a Speech To Text Adapter object the parameters are the endpoint and API key."
      ]
    },
    {
      "cell_type": "code",
      "metadata": {
        "colab": {
          "base_uri": "https://localhost:8080/"
        },
        "id": "JOt6ZxmE8-Ss",
        "outputId": "790cf95b-5436-4a5c-85c0-e9eee42ea194"
      },
      "source": [
        "authenticator = IAMAuthenticator(iam_apikey_s2t)\n",
        "s2t = SpeechToTextV1(authenticator=authenticator)\n",
        "s2t.set_service_url(url_s2t)\n",
        "s2t"
      ],
      "execution_count": 5,
      "outputs": [
        {
          "output_type": "execute_result",
          "data": {
            "text/plain": [
              "<ibm_watson.speech_to_text_v1_adapter.SpeechToTextV1Adapter at 0x7f4347ba4550>"
            ]
          },
          "metadata": {},
          "execution_count": 5
        }
      ]
    },
    {
      "cell_type": "markdown",
      "metadata": {
        "id": "PbSXVzpC9kxe"
      },
      "source": [
        "Lets download the audio file that we will use to convert into text."
      ]
    },
    {
      "cell_type": "code",
      "metadata": {
        "colab": {
          "base_uri": "https://localhost:8080/"
        },
        "id": "dUDPzhLm9hgu",
        "outputId": "9ff6e2e1-1715-4063-8645-486a5d453c38"
      },
      "source": [
        "!wget -O PolynomialRegressionandPipelines.mp3  https://cf-courses-data.s3.us.cloud-object-storage.appdomain.cloud/IBMDeveloperSkillsNetwork-PY0101EN-SkillsNetwork/labs/Module%205/data/PolynomialRegressionandPipelines.mp3\n",
        "\n"
      ],
      "execution_count": 6,
      "outputs": [
        {
          "output_type": "stream",
          "name": "stdout",
          "text": [
            "--2021-09-18 13:44:42--  https://cf-courses-data.s3.us.cloud-object-storage.appdomain.cloud/IBMDeveloperSkillsNetwork-PY0101EN-SkillsNetwork/labs/Module%205/data/PolynomialRegressionandPipelines.mp3\n",
            "Resolving cf-courses-data.s3.us.cloud-object-storage.appdomain.cloud (cf-courses-data.s3.us.cloud-object-storage.appdomain.cloud)... 169.45.118.108\n",
            "Connecting to cf-courses-data.s3.us.cloud-object-storage.appdomain.cloud (cf-courses-data.s3.us.cloud-object-storage.appdomain.cloud)|169.45.118.108|:443... connected.\n",
            "HTTP request sent, awaiting response... 200 OK\n",
            "Length: 4234179 (4.0M) [audio/mpeg]\n",
            "Saving to: ‘PolynomialRegressionandPipelines.mp3’\n",
            "\n",
            "PolynomialRegressio 100%[===================>]   4.04M  --.-KB/s    in 0.1s    \n",
            "\n",
            "2021-09-18 13:44:43 (27.6 MB/s) - ‘PolynomialRegressionandPipelines.mp3’ saved [4234179/4234179]\n",
            "\n"
          ]
        }
      ]
    },
    {
      "cell_type": "code",
      "metadata": {
        "id": "7b_zAG3D9n4G"
      },
      "source": [
        "filename='PolynomialRegressionandPipelines.mp3'"
      ],
      "execution_count": 7,
      "outputs": []
    },
    {
      "cell_type": "code",
      "metadata": {
        "id": "2iSm7eCB9rLJ"
      },
      "source": [
        "with open(filename, mode=\"rb\")  as wav:\n",
        "    response = s2t.recognize(audio=wav, content_type='audio/mp3')"
      ],
      "execution_count": 8,
      "outputs": []
    },
    {
      "cell_type": "markdown",
      "metadata": {
        "id": "EjdTfC3c_Mv3"
      },
      "source": [
        "<p>The attribute result contains a dictionary that includes the translation:</p>\n"
      ]
    },
    {
      "cell_type": "code",
      "metadata": {
        "id": "3-3SgAfM91CU",
        "colab": {
          "base_uri": "https://localhost:8080/"
        },
        "outputId": "8b93e6f6-e969-4d27-ea78-5f73577dbd9e"
      },
      "source": [
        "response.result"
      ],
      "execution_count": 9,
      "outputs": [
        {
          "output_type": "execute_result",
          "data": {
            "text/plain": [
              "{'result_index': 0,\n",
              " 'results': [{'alternatives': [{'confidence': 0.94,\n",
              "     'transcript': 'in this video we will cover polynomial regression and pipelines '}],\n",
              "   'final': True},\n",
              "  {'alternatives': [{'confidence': 0.9,\n",
              "     'transcript': \"what do we do when a linear model is not the best fit for our data let's look into another type of regression model the polynomial regression we transform our data into a polynomial then use linear regression to fit the parameters that we will discuss pipelines pipelines are way to simplify your code \"}],\n",
              "   'final': True},\n",
              "  {'alternatives': [{'confidence': 0.95,\n",
              "     'transcript': \"polynomial regression is a special case of the general linear regression this method is beneficial for describing curvilinear relationships what is a curvilinear relationship it's what you get by squaring or setting higher order terms of the predictor variables in the model transforming the data the model can be quadratic which means the predictor variable in the model is squared we use a bracket to indicated as an exponent this is the second order polynomial regression with a figure representing the function \"}],\n",
              "   'final': True},\n",
              "  {'alternatives': [{'confidence': 0.95,\n",
              "     'transcript': 'the model can be cubic which means the predictor variable is cute this is the third order polynomial regression we see by examining the figure that the function has more variation '}],\n",
              "   'final': True},\n",
              "  {'alternatives': [{'confidence': 0.91,\n",
              "     'transcript': \"there also exists higher order polynomial regressions when a good fit hasn't been achieved by second or third order we can see in figures how much the graphs change when we change the order of the polynomial regression the degree of the regression makes a big difference and can result in a better fit if you pick the right value in all cases the relationship between the variable in the parameter is always linear \"}],\n",
              "   'final': True},\n",
              "  {'alternatives': [{'confidence': 0.89,\n",
              "     'transcript': \"let's look at an example from our data we generate a polynomial regression model \"}],\n",
              "   'final': True},\n",
              "  {'alternatives': [{'confidence': 0.92,\n",
              "     'transcript': 'in python we do this by using the poly fit function in this example we develop a third order polynomial regression model base we can print out the model symbolic form for the model is given by the following expression '}],\n",
              "   'final': True},\n",
              "  {'alternatives': [{'confidence': 0.9,\n",
              "     'transcript': \"negative one point five five seven X. one cute plus two hundred four point eight X. one squared plus eight thousand nine hundred sixty five X. one plus one point three seven times ten to the power of five we can also have multi dimensional polynomial linear regression the expression can get complicated here are just some of the terms for two dimensional second order polynomial none pies poly fit function cannot perform this type of regression we use the preprocessing librarian scikit learn to create a polynomial feature object the constructor takes the degree of the polynomial as a parameter then we transform the features into a polynomial feature with the fit underscore transform method let's do a more intuitive example \"}],\n",
              "   'final': True},\n",
              "  {'alternatives': [{'confidence': 0.9,\n",
              "     'transcript': 'consider the feature shown here applying the method we transform the data we now have a new set of features that are transformed version of our original features as that I mention of the data gets larger we may want to normalize multiple features as scikit learn instead we can use the preprocessing module to simplify many tasks for example we can standardize each feature simultaneously we import standard scaler we train the object fit the scale object then transform the data into a new data frame on a rate X. underscore scale there are more normalization methods available in the pre processing library as well as other transformations we can simplify our code by using a pipeline library there are many steps to getting a prediction for example normalization polynomial transform and linear regression we simplify the process using a pipeline '}],\n",
              "   'final': True},\n",
              "  {'alternatives': [{'confidence': 0.89,\n",
              "     'transcript': 'pipeline sequentially perform a series of transformations the last step carries out a prediction first we import all the modules we need then we import the library pipeline we create a list of topples the first element in the topple contains the name of the estimator model the second element contains model constructor we input the list in the pipeline constructor we now have a pipeline object we can train the pipeline by applying the train method to the pipeline object we can also produce a prediction as well '}],\n",
              "   'final': True},\n",
              "  {'alternatives': [{'confidence': 0.88,\n",
              "     'transcript': 'the method normalizes the data performs a polynomial transform then outputs a prediction '}],\n",
              "   'final': True}]}"
            ]
          },
          "metadata": {},
          "execution_count": 9
        }
      ]
    },
    {
      "cell_type": "code",
      "metadata": {
        "id": "C1j-PI4q_VmO",
        "colab": {
          "base_uri": "https://localhost:8080/",
          "height": 390
        },
        "outputId": "1bd09525-96eb-48b6-a084-a3a82ef48c7e"
      },
      "source": [
        "from pandas import json_normalize\n",
        "\n",
        "json_normalize(response.result['results'],\"alternatives\")"
      ],
      "execution_count": 10,
      "outputs": [
        {
          "output_type": "execute_result",
          "data": {
            "text/html": [
              "<div>\n",
              "<style scoped>\n",
              "    .dataframe tbody tr th:only-of-type {\n",
              "        vertical-align: middle;\n",
              "    }\n",
              "\n",
              "    .dataframe tbody tr th {\n",
              "        vertical-align: top;\n",
              "    }\n",
              "\n",
              "    .dataframe thead th {\n",
              "        text-align: right;\n",
              "    }\n",
              "</style>\n",
              "<table border=\"1\" class=\"dataframe\">\n",
              "  <thead>\n",
              "    <tr style=\"text-align: right;\">\n",
              "      <th></th>\n",
              "      <th>transcript</th>\n",
              "      <th>confidence</th>\n",
              "    </tr>\n",
              "  </thead>\n",
              "  <tbody>\n",
              "    <tr>\n",
              "      <th>0</th>\n",
              "      <td>in this video we will cover polynomial regress...</td>\n",
              "      <td>0.94</td>\n",
              "    </tr>\n",
              "    <tr>\n",
              "      <th>1</th>\n",
              "      <td>what do we do when a linear model is not the b...</td>\n",
              "      <td>0.90</td>\n",
              "    </tr>\n",
              "    <tr>\n",
              "      <th>2</th>\n",
              "      <td>polynomial regression is a special case of the...</td>\n",
              "      <td>0.95</td>\n",
              "    </tr>\n",
              "    <tr>\n",
              "      <th>3</th>\n",
              "      <td>the model can be cubic which means the predict...</td>\n",
              "      <td>0.95</td>\n",
              "    </tr>\n",
              "    <tr>\n",
              "      <th>4</th>\n",
              "      <td>there also exists higher order polynomial regr...</td>\n",
              "      <td>0.91</td>\n",
              "    </tr>\n",
              "    <tr>\n",
              "      <th>5</th>\n",
              "      <td>let's look at an example from our data we gene...</td>\n",
              "      <td>0.89</td>\n",
              "    </tr>\n",
              "    <tr>\n",
              "      <th>6</th>\n",
              "      <td>in python we do this by using the poly fit fun...</td>\n",
              "      <td>0.92</td>\n",
              "    </tr>\n",
              "    <tr>\n",
              "      <th>7</th>\n",
              "      <td>negative one point five five seven X. one cute...</td>\n",
              "      <td>0.90</td>\n",
              "    </tr>\n",
              "    <tr>\n",
              "      <th>8</th>\n",
              "      <td>consider the feature shown here applying the m...</td>\n",
              "      <td>0.90</td>\n",
              "    </tr>\n",
              "    <tr>\n",
              "      <th>9</th>\n",
              "      <td>pipeline sequentially perform a series of tran...</td>\n",
              "      <td>0.89</td>\n",
              "    </tr>\n",
              "    <tr>\n",
              "      <th>10</th>\n",
              "      <td>the method normalizes the data performs a poly...</td>\n",
              "      <td>0.88</td>\n",
              "    </tr>\n",
              "  </tbody>\n",
              "</table>\n",
              "</div>"
            ],
            "text/plain": [
              "                                           transcript  confidence\n",
              "0   in this video we will cover polynomial regress...        0.94\n",
              "1   what do we do when a linear model is not the b...        0.90\n",
              "2   polynomial regression is a special case of the...        0.95\n",
              "3   the model can be cubic which means the predict...        0.95\n",
              "4   there also exists higher order polynomial regr...        0.91\n",
              "5   let's look at an example from our data we gene...        0.89\n",
              "6   in python we do this by using the poly fit fun...        0.92\n",
              "7   negative one point five five seven X. one cute...        0.90\n",
              "8   consider the feature shown here applying the m...        0.90\n",
              "9   pipeline sequentially perform a series of tran...        0.89\n",
              "10  the method normalizes the data performs a poly...        0.88"
            ]
          },
          "metadata": {},
          "execution_count": 10
        }
      ]
    },
    {
      "cell_type": "code",
      "metadata": {
        "id": "K96APjN__zeC",
        "colab": {
          "base_uri": "https://localhost:8080/"
        },
        "outputId": "4afe6332-f677-4a23-a99f-aa107217d38d"
      },
      "source": [
        "response.result"
      ],
      "execution_count": 11,
      "outputs": [
        {
          "output_type": "execute_result",
          "data": {
            "text/plain": [
              "{'result_index': 0,\n",
              " 'results': [{'alternatives': [{'confidence': 0.94,\n",
              "     'transcript': 'in this video we will cover polynomial regression and pipelines '}],\n",
              "   'final': True},\n",
              "  {'alternatives': [{'confidence': 0.9,\n",
              "     'transcript': \"what do we do when a linear model is not the best fit for our data let's look into another type of regression model the polynomial regression we transform our data into a polynomial then use linear regression to fit the parameters that we will discuss pipelines pipelines are way to simplify your code \"}],\n",
              "   'final': True},\n",
              "  {'alternatives': [{'confidence': 0.95,\n",
              "     'transcript': \"polynomial regression is a special case of the general linear regression this method is beneficial for describing curvilinear relationships what is a curvilinear relationship it's what you get by squaring or setting higher order terms of the predictor variables in the model transforming the data the model can be quadratic which means the predictor variable in the model is squared we use a bracket to indicated as an exponent this is the second order polynomial regression with a figure representing the function \"}],\n",
              "   'final': True},\n",
              "  {'alternatives': [{'confidence': 0.95,\n",
              "     'transcript': 'the model can be cubic which means the predictor variable is cute this is the third order polynomial regression we see by examining the figure that the function has more variation '}],\n",
              "   'final': True},\n",
              "  {'alternatives': [{'confidence': 0.91,\n",
              "     'transcript': \"there also exists higher order polynomial regressions when a good fit hasn't been achieved by second or third order we can see in figures how much the graphs change when we change the order of the polynomial regression the degree of the regression makes a big difference and can result in a better fit if you pick the right value in all cases the relationship between the variable in the parameter is always linear \"}],\n",
              "   'final': True},\n",
              "  {'alternatives': [{'confidence': 0.89,\n",
              "     'transcript': \"let's look at an example from our data we generate a polynomial regression model \"}],\n",
              "   'final': True},\n",
              "  {'alternatives': [{'confidence': 0.92,\n",
              "     'transcript': 'in python we do this by using the poly fit function in this example we develop a third order polynomial regression model base we can print out the model symbolic form for the model is given by the following expression '}],\n",
              "   'final': True},\n",
              "  {'alternatives': [{'confidence': 0.9,\n",
              "     'transcript': \"negative one point five five seven X. one cute plus two hundred four point eight X. one squared plus eight thousand nine hundred sixty five X. one plus one point three seven times ten to the power of five we can also have multi dimensional polynomial linear regression the expression can get complicated here are just some of the terms for two dimensional second order polynomial none pies poly fit function cannot perform this type of regression we use the preprocessing librarian scikit learn to create a polynomial feature object the constructor takes the degree of the polynomial as a parameter then we transform the features into a polynomial feature with the fit underscore transform method let's do a more intuitive example \"}],\n",
              "   'final': True},\n",
              "  {'alternatives': [{'confidence': 0.9,\n",
              "     'transcript': 'consider the feature shown here applying the method we transform the data we now have a new set of features that are transformed version of our original features as that I mention of the data gets larger we may want to normalize multiple features as scikit learn instead we can use the preprocessing module to simplify many tasks for example we can standardize each feature simultaneously we import standard scaler we train the object fit the scale object then transform the data into a new data frame on a rate X. underscore scale there are more normalization methods available in the pre processing library as well as other transformations we can simplify our code by using a pipeline library there are many steps to getting a prediction for example normalization polynomial transform and linear regression we simplify the process using a pipeline '}],\n",
              "   'final': True},\n",
              "  {'alternatives': [{'confidence': 0.89,\n",
              "     'transcript': 'pipeline sequentially perform a series of transformations the last step carries out a prediction first we import all the modules we need then we import the library pipeline we create a list of topples the first element in the topple contains the name of the estimator model the second element contains model constructor we input the list in the pipeline constructor we now have a pipeline object we can train the pipeline by applying the train method to the pipeline object we can also produce a prediction as well '}],\n",
              "   'final': True},\n",
              "  {'alternatives': [{'confidence': 0.88,\n",
              "     'transcript': 'the method normalizes the data performs a polynomial transform then outputs a prediction '}],\n",
              "   'final': True}]}"
            ]
          },
          "metadata": {},
          "execution_count": 11
        }
      ]
    },
    {
      "cell_type": "code",
      "metadata": {
        "id": "bRqpOzgw_3TU",
        "colab": {
          "base_uri": "https://localhost:8080/"
        },
        "outputId": "0aec7117-0930-4709-fb42-9dc7c2e6e072"
      },
      "source": [
        "recognized_text=response.result['results'][0][\"alternatives\"][0][\"transcript\"]\n",
        "type(recognized_text)"
      ],
      "execution_count": 12,
      "outputs": [
        {
          "output_type": "execute_result",
          "data": {
            "text/plain": [
              "str"
            ]
          },
          "metadata": {},
          "execution_count": 12
        }
      ]
    },
    {
      "cell_type": "code",
      "metadata": {
        "id": "iagS_FDXABG5",
        "colab": {
          "base_uri": "https://localhost:8080/",
          "height": 35
        },
        "outputId": "50b5a3b4-dfd7-4c54-92a3-d9abc41a882b"
      },
      "source": [
        "recognized_text"
      ],
      "execution_count": 13,
      "outputs": [
        {
          "output_type": "execute_result",
          "data": {
            "application/vnd.google.colaboratory.intrinsic+json": {
              "type": "string"
            },
            "text/plain": [
              "'in this video we will cover polynomial regression and pipelines '"
            ]
          },
          "metadata": {},
          "execution_count": 13
        }
      ]
    },
    {
      "cell_type": "markdown",
      "metadata": {
        "id": "CQHBY7oeAYol"
      },
      "source": [
        "<h2 id=\"ref1\">Language Translator</h2>\n"
      ]
    },
    {
      "cell_type": "code",
      "metadata": {
        "id": "REYX0s8DAEyN"
      },
      "source": [
        "from ibm_watson import LanguageTranslatorV3"
      ],
      "execution_count": 14,
      "outputs": []
    },
    {
      "cell_type": "code",
      "metadata": {
        "id": "j9ULPpf9AdhX"
      },
      "source": [
        "##you should use your own credentials from IBM Cloud Pack Services for ibm text translation service\n",
        "url_lt='**********'\n",
        "apikey_lt='********'\n",
        "version_lt='2018-05-01'"
      ],
      "execution_count": 15,
      "outputs": []
    },
    {
      "cell_type": "markdown",
      "metadata": {
        "id": "alP_J_vJBNoH"
      },
      "source": [
        "<p>we create a  Language Translator object <code>language_translator</code>:</p>\n"
      ]
    },
    {
      "cell_type": "code",
      "metadata": {
        "id": "2GdOmBluBEGD",
        "colab": {
          "base_uri": "https://localhost:8080/"
        },
        "outputId": "a2573933-4cf9-4197-abc5-6e9cb9a6f83c"
      },
      "source": [
        "authenticator = IAMAuthenticator(apikey_lt)\n",
        "language_translator = LanguageTranslatorV3(version=version_lt,authenticator=authenticator)\n",
        "language_translator.set_service_url(url_lt)\n",
        "language_translator"
      ],
      "execution_count": 17,
      "outputs": [
        {
          "output_type": "execute_result",
          "data": {
            "text/plain": [
              "<ibm_watson.language_translator_v3.LanguageTranslatorV3 at 0x7f4347748350>"
            ]
          },
          "metadata": {},
          "execution_count": 17
        }
      ]
    },
    {
      "cell_type": "code",
      "metadata": {
        "id": "dJPnCVciBQIy",
        "colab": {
          "base_uri": "https://localhost:8080/",
          "height": 419
        },
        "outputId": "41b7672f-ff66-493f-ed0a-5c5430ba324b"
      },
      "source": [
        "from pandas import json_normalize\n",
        "\n",
        "json_normalize(language_translator.list_identifiable_languages().get_result(), \"languages\")"
      ],
      "execution_count": 18,
      "outputs": [
        {
          "output_type": "execute_result",
          "data": {
            "text/html": [
              "<div>\n",
              "<style scoped>\n",
              "    .dataframe tbody tr th:only-of-type {\n",
              "        vertical-align: middle;\n",
              "    }\n",
              "\n",
              "    .dataframe tbody tr th {\n",
              "        vertical-align: top;\n",
              "    }\n",
              "\n",
              "    .dataframe thead th {\n",
              "        text-align: right;\n",
              "    }\n",
              "</style>\n",
              "<table border=\"1\" class=\"dataframe\">\n",
              "  <thead>\n",
              "    <tr style=\"text-align: right;\">\n",
              "      <th></th>\n",
              "      <th>language</th>\n",
              "      <th>name</th>\n",
              "    </tr>\n",
              "  </thead>\n",
              "  <tbody>\n",
              "    <tr>\n",
              "      <th>0</th>\n",
              "      <td>af</td>\n",
              "      <td>Afrikaans</td>\n",
              "    </tr>\n",
              "    <tr>\n",
              "      <th>1</th>\n",
              "      <td>ar</td>\n",
              "      <td>Arabic</td>\n",
              "    </tr>\n",
              "    <tr>\n",
              "      <th>2</th>\n",
              "      <td>az</td>\n",
              "      <td>Azerbaijani</td>\n",
              "    </tr>\n",
              "    <tr>\n",
              "      <th>3</th>\n",
              "      <td>ba</td>\n",
              "      <td>Bashkir</td>\n",
              "    </tr>\n",
              "    <tr>\n",
              "      <th>4</th>\n",
              "      <td>be</td>\n",
              "      <td>Belarusian</td>\n",
              "    </tr>\n",
              "    <tr>\n",
              "      <th>...</th>\n",
              "      <td>...</td>\n",
              "      <td>...</td>\n",
              "    </tr>\n",
              "    <tr>\n",
              "      <th>71</th>\n",
              "      <td>uk</td>\n",
              "      <td>Ukrainian</td>\n",
              "    </tr>\n",
              "    <tr>\n",
              "      <th>72</th>\n",
              "      <td>ur</td>\n",
              "      <td>Urdu</td>\n",
              "    </tr>\n",
              "    <tr>\n",
              "      <th>73</th>\n",
              "      <td>vi</td>\n",
              "      <td>Vietnamese</td>\n",
              "    </tr>\n",
              "    <tr>\n",
              "      <th>74</th>\n",
              "      <td>zh</td>\n",
              "      <td>Simplified Chinese</td>\n",
              "    </tr>\n",
              "    <tr>\n",
              "      <th>75</th>\n",
              "      <td>zh-TW</td>\n",
              "      <td>Traditional Chinese</td>\n",
              "    </tr>\n",
              "  </tbody>\n",
              "</table>\n",
              "<p>76 rows × 2 columns</p>\n",
              "</div>"
            ],
            "text/plain": [
              "   language                 name\n",
              "0        af            Afrikaans\n",
              "1        ar               Arabic\n",
              "2        az          Azerbaijani\n",
              "3        ba              Bashkir\n",
              "4        be           Belarusian\n",
              "..      ...                  ...\n",
              "71       uk            Ukrainian\n",
              "72       ur                 Urdu\n",
              "73       vi           Vietnamese\n",
              "74       zh   Simplified Chinese\n",
              "75    zh-TW  Traditional Chinese\n",
              "\n",
              "[76 rows x 2 columns]"
            ]
          },
          "metadata": {},
          "execution_count": 18
        }
      ]
    },
    {
      "cell_type": "code",
      "metadata": {
        "id": "fQGS-b1IBUDj",
        "colab": {
          "base_uri": "https://localhost:8080/"
        },
        "outputId": "480b4a75-1dd3-4d66-b5f0-c73b93ab64be"
      },
      "source": [
        "translation_response = language_translator.translate(\\\n",
        "    text=recognized_text, model_id='en-tr')\n",
        "translation_response"
      ],
      "execution_count": 19,
      "outputs": [
        {
          "output_type": "execute_result",
          "data": {
            "text/plain": [
              "<ibm_cloud_sdk_core.detailed_response.DetailedResponse at 0x7f434770bfd0>"
            ]
          },
          "metadata": {},
          "execution_count": 19
        }
      ]
    },
    {
      "cell_type": "code",
      "metadata": {
        "id": "xs91yIHc6epV",
        "colab": {
          "base_uri": "https://localhost:8080/"
        },
        "outputId": "66b85da9-418f-4d23-e29a-90fd33ff326c"
      },
      "source": [
        "translation=translation_response.get_result()\n",
        "translation"
      ],
      "execution_count": 20,
      "outputs": [
        {
          "output_type": "execute_result",
          "data": {
            "text/plain": [
              "{'character_count': 64,\n",
              " 'translations': [{'translation': 'bu videoda polinom regresyonu ve boru hatlarını karşılayacağız '}],\n",
              " 'word_count': 10}"
            ]
          },
          "metadata": {},
          "execution_count": 20
        }
      ]
    },
    {
      "cell_type": "code",
      "metadata": {
        "id": "GDTQsmo86gJx",
        "colab": {
          "base_uri": "https://localhost:8080/",
          "height": 35
        },
        "outputId": "73411d0c-72c7-446e-9a9a-ee0623f60bc1"
      },
      "source": [
        "spanish_translation =translation['translations'][0]['translation']\n",
        "spanish_translation "
      ],
      "execution_count": 21,
      "outputs": [
        {
          "output_type": "execute_result",
          "data": {
            "application/vnd.google.colaboratory.intrinsic+json": {
              "type": "string"
            },
            "text/plain": [
              "'bu videoda polinom regresyonu ve boru hatlarını karşılayacağız '"
            ]
          },
          "metadata": {},
          "execution_count": 21
        }
      ]
    },
    {
      "cell_type": "code",
      "metadata": {
        "id": "Gn3JTotk6uK_"
      },
      "source": [
        "translation_new = language_translator.translate(text=spanish_translation ,model_id='tr-en').get_result()"
      ],
      "execution_count": 22,
      "outputs": []
    },
    {
      "cell_type": "code",
      "metadata": {
        "id": "pKgavrPe6yVJ",
        "colab": {
          "base_uri": "https://localhost:8080/",
          "height": 35
        },
        "outputId": "6d1ee12a-010d-45d2-c8c0-4923d932aa24"
      },
      "source": [
        "translation_eng=translation_new['translations'][0]['translation']\n",
        "translation_eng"
      ],
      "execution_count": 23,
      "outputs": [
        {
          "output_type": "execute_result",
          "data": {
            "application/vnd.google.colaboratory.intrinsic+json": {
              "type": "string"
            },
            "text/plain": [
              "'in this video we will meet the polynomial regression and pipelines '"
            ]
          },
          "metadata": {},
          "execution_count": 23
        }
      ]
    },
    {
      "cell_type": "code",
      "metadata": {
        "id": "bNH1wsK-60GU"
      },
      "source": [
        " "
      ],
      "execution_count": null,
      "outputs": []
    }
  ]
}